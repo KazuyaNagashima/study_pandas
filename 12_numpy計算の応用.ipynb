{
 "cells": [
  {
   "cell_type": "code",
   "execution_count": 1,
   "metadata": {},
   "outputs": [],
   "source": [
    "#ライブラリの読み込み\n",
    "import numpy as np\n",
    "import scipy as sp\n",
    "import pandas as pd\n",
    "from pandas import Series, DataFrame\n",
    "\n",
    "%precision 3\n",
    "\n",
    "#可視化用\n",
    "import matplotlib.pyplot as plt\n",
    "import matplotlib as mpl\n",
    "import seaborn as sns\n",
    "sns.set()\n",
    "%matplotlib inline"
   ]
  },
  {
   "cell_type": "code",
   "execution_count": 2,
   "metadata": {},
   "outputs": [
    {
     "name": "stdout",
     "output_type": "stream",
     "text": [
      "sample_array: [0 1 2 3 4 5 6 7 8 9]\n"
     ]
    }
   ],
   "source": [
    "#配列の作成\n",
    "sample_array = np.arange(10)\n",
    "print('sample_array:',sample_array)"
   ]
  },
  {
   "cell_type": "code",
   "execution_count": 3,
   "metadata": {},
   "outputs": [
    {
     "name": "stdout",
     "output_type": "stream",
     "text": [
      "[0 1 2 3 4]\n"
     ]
    }
   ],
   "source": [
    "#スライスを用いて前5つを抽出\n",
    "sample_array_slice = sample_array[0:5]\n",
    "print(sample_array_slice)"
   ]
  },
  {
   "cell_type": "code",
   "execution_count": 4,
   "metadata": {},
   "outputs": [
    {
     "name": "stdout",
     "output_type": "stream",
     "text": [
      "[10 10 10  3  4]\n",
      "sample_array: [10 10 10  3  4  5  6  7  8  9]\n"
     ]
    }
   ],
   "source": [
    "#sample_array_sliceの3文字目までは10で置換\n",
    "sample_array_slice[0:3] = 10\n",
    "print(sample_array_slice)\n",
    "\n",
    "#注)オリジナルのリストも置換されてしまう！(参照しているため。コピーする必要がある)\n",
    "print('sample_array:',sample_array)"
   ]
  },
  {
   "cell_type": "code",
   "execution_count": 5,
   "metadata": {},
   "outputs": [
    {
     "name": "stdout",
     "output_type": "stream",
     "text": [
      "sample_array_copy: [10 10 10  3  4  5  6  7  8  9]\n",
      "sample_array_copy: [20 20 20  3  4  5  6  7  8  9]\n",
      "sample_array: [10 10 10  3  4  5  6  7  8  9]\n"
     ]
    }
   ],
   "source": [
    "#sample_arrayをコピーする(np.copy)\n",
    "sample_array_copy = np.copy(sample_array)\n",
    "print('sample_array_copy:',sample_array_copy)\n",
    "\n",
    "sample_array_copy[0:3] = 20\n",
    "print('sample_array_copy:',sample_array_copy)\n",
    "\n",
    "#コピーするとオリジナルのリストは置換されない。(コピーしたものを参照しているため)\n",
    "print('sample_array:',sample_array)"
   ]
  },
  {
   "cell_type": "code",
   "execution_count": 6,
   "metadata": {},
   "outputs": [
    {
     "name": "stdout",
     "output_type": "stream",
     "text": [
      "['a' 'b' 'c' 'd' 'a']\n",
      "[[ 1.764  0.4    0.979  2.241  1.868]\n",
      " [-0.977  0.95  -0.151 -0.103  0.411]\n",
      " [ 0.144  1.454  0.761  0.122  0.444]\n",
      " [ 0.334  1.494 -0.205  0.313 -0.854]\n",
      " [-2.553  0.654  0.864 -0.742  2.27 ]]\n"
     ]
    }
   ],
   "source": [
    "#bool index参照(条件抽出)\n",
    "\n",
    "#データの準備(名前の配列とデータの配列)\n",
    "sample_names = np.array(['a','b','c','d','a'])\n",
    "\n",
    "np.random.seed(0)\n",
    "data = np.random.randn(5,5)\n",
    "\n",
    "print(sample_names)\n",
    "print(data)"
   ]
  },
  {
   "cell_type": "code",
   "execution_count": 7,
   "metadata": {},
   "outputs": [
    {
     "data": {
      "text/plain": [
       "array([ True, False, False, False,  True])"
      ]
     },
     "execution_count": 7,
     "metadata": {},
     "output_type": "execute_result"
    }
   ],
   "source": [
    "#真偽の判定\n",
    "sample_names == 'a'"
   ]
  },
  {
   "cell_type": "code",
   "execution_count": 8,
   "metadata": {},
   "outputs": [
    {
     "data": {
      "text/plain": [
       "array([[ 1.764,  0.4  ,  0.979,  2.241,  1.868],\n",
       "       [-2.553,  0.654,  0.864, -0.742,  2.27 ]])"
      ]
     },
     "execution_count": 8,
     "metadata": {},
     "output_type": "execute_result"
    }
   ],
   "source": [
    "#条件抽出(sample_names=='a'が0番目と4番目でTrueなので、dataのindexが0と4のデータを抽出する)\n",
    "data[sample_names == 'a']"
   ]
  },
  {
   "cell_type": "code",
   "execution_count": 9,
   "metadata": {},
   "outputs": [
    {
     "name": "stdout",
     "output_type": "stream",
     "text": [
      "[  1   2 300 400   5]\n"
     ]
    }
   ],
   "source": [
    "#条件制御(numpy.whereを使うと、2つのデータX,Yの要素を条件で抽出できる)\n",
    "\n",
    "#条件制御のために、ブールの配列を作成\n",
    "cond_data = np.array([True,True,False,False,True])\n",
    "\n",
    "#配列 x_array,y_array を作成\n",
    "x_array = np.array([1,2,3,4,5])\n",
    "y_array = np.array([100,200,300,400,500])\n",
    "\n",
    "#条件制御実行\n",
    "print(np.where(cond_data,x_array,y_array))"
   ]
  },
  {
   "cell_type": "code",
   "execution_count": 10,
   "metadata": {},
   "outputs": [
    {
     "data": {
      "text/plain": [
       "array([False,  True])"
      ]
     },
     "execution_count": 10,
     "metadata": {},
     "output_type": "execute_result"
    }
   ],
   "source": [
    "#重複の削除\n",
    "np.unique(cond_data)"
   ]
  },
  {
   "cell_type": "code",
   "execution_count": 11,
   "metadata": {},
   "outputs": [
    {
     "name": "stdout",
     "output_type": "stream",
     "text": [
      "元のデータ: [0 1 2 3 4 5 6 7 8 9]\n",
      "全ての要素の平方根: [0.    1.    1.414 1.732 2.    2.236 2.449 2.646 2.828 3.   ]\n",
      "全ての要素のネイピア指数関数: [1.000e+00 2.718e+00 7.389e+00 2.009e+01 5.460e+01 1.484e+02 4.034e+02\n",
      " 1.097e+03 2.981e+03 8.103e+03]\n"
     ]
    }
   ],
   "source": [
    "#ユニバーサル関数:全ての要素に関数を適用できる機能\n",
    "sample_data = np.arange(10)\n",
    "print('元のデータ:',sample_data)\n",
    "print('全ての要素の平方根:',np.sqrt(sample_data))\n",
    "print('全ての要素のネイピア指数関数:',np.exp(sample_data))"
   ]
  },
  {
   "cell_type": "code",
   "execution_count": 12,
   "metadata": {},
   "outputs": [
    {
     "name": "stdout",
     "output_type": "stream",
     "text": [
      "[[0 1 2]\n",
      " [3 4 5]\n",
      " [6 7 8]]\n",
      "最小値: 0\n",
      "最大値: 8\n",
      "平均値: 4.0\n",
      "合計: 36\n",
      "行の合計: [ 3 12 21]\n",
      "列の合計: [ 9 12 15]\n"
     ]
    }
   ],
   "source": [
    "#最小、最大、平均、合計の計算\n",
    "\n",
    "#0から8までの数を3行3列の行列にする\n",
    "sample_multi_array_detail = np.arange(9).reshape(3,3)\n",
    "print(sample_multi_array_detail)\n",
    "\n",
    "print('最小値:',sample_multi_array_detail.min())\n",
    "print('最大値:',sample_multi_array_detail.max())\n",
    "print('平均値:',sample_multi_array_detail.mean())\n",
    "print('合計:',sample_multi_array_detail.sum())\n",
    "\n",
    "#行列を指定して合計値を求める\n",
    "print('行の合計:',sample_multi_array_detail.sum(axis=1))\n",
    "print('列の合計:',sample_multi_array_detail.sum(axis=0))"
   ]
  },
  {
   "cell_type": "code",
   "execution_count": 13,
   "metadata": {},
   "outputs": [
    {
     "name": "stdout",
     "output_type": "stream",
     "text": [
      "Trueが少なくとも1つあるかどうか: True\n",
      "全てTrueかどうか: False\n"
     ]
    }
   ],
   "source": [
    "#真偽値の配列関数\n",
    "cond_data = np.array([True,True,False,False,True])\n",
    "\n",
    "print('Trueが少なくとも1つあるかどうか:',cond_data.any())\n",
    "print('全てTrueかどうか:',cond_data.all())\n",
    "\n",
    "#※np.any(cond_data)、np.all(cond_data)でも可"
   ]
  },
  {
   "cell_type": "code",
   "execution_count": 16,
   "metadata": {},
   "outputs": [
    {
     "name": "stdout",
     "output_type": "stream",
     "text": [
      "[[0 1 2]\n",
      " [3 4 5]\n",
      " [6 7 8]]\n",
      "5より大きい数字がいくつあるのか: 3\n"
     ]
    }
   ],
   "source": [
    "#条件に一致する要素の個数を調べる\n",
    "sample_multi_array_datal = np.arange(9).reshape(3,3)\n",
    "print(sample_multi_array_datal)\n",
    "\n",
    "print('5より大きい数字がいくつあるのか:',(sample_multi_array_datal>5).sum())"
   ]
  },
  {
   "cell_type": "code",
   "execution_count": 17,
   "metadata": {},
   "outputs": [
    {
     "name": "stdout",
     "output_type": "stream",
     "text": [
      "[[0 1 2]\n",
      " [3 4 5]\n",
      " [6 7 8]]\n",
      "対角成分: [0 4 8]\n",
      "対角成分の和: 12\n"
     ]
    }
   ],
   "source": [
    "#対角成分の計算\n",
    "sample_multi_array_datal = np.arange(9).reshape(3,3)\n",
    "print(sample_multi_array_datal)\n",
    "\n",
    "print('対角成分:',np.diag(sample_multi_array_datal))\n",
    "print('対角成分の和:',np.trace(sample_multi_array_datal))"
   ]
  },
  {
   "cell_type": "markdown",
   "metadata": {},
   "source": [
    "配列操作とブロードキャスト"
   ]
  },
  {
   "cell_type": "code",
   "execution_count": 18,
   "metadata": {},
   "outputs": [
    {
     "name": "stdout",
     "output_type": "stream",
     "text": [
      "[0 1 2 3 4 5 6 7 8 9]\n",
      "[[0 1 2 3 4]\n",
      " [5 6 7 8 9]]\n",
      "[[0 1]\n",
      " [2 3]\n",
      " [4 5]\n",
      " [6 7]\n",
      " [8 9]]\n"
     ]
    }
   ],
   "source": [
    "#再形成(行列の次元を変えること)\n",
    "sample_array = np.arange(10)\n",
    "print(sample_array)\n",
    "\n",
    "sample_array2 = sample_array.reshape(2,5)\n",
    "print(sample_array2)\n",
    "\n",
    "print(sample_array2.reshape(5,2))"
   ]
  },
  {
   "cell_type": "code",
   "execution_count": null,
   "metadata": {},
   "outputs": [],
   "source": [
    "#データの用意\n",
    "sample_array3 = np.array([[1,2,3],[4,5,6]])\n",
    "sample_array4 = np.array([[7,8,9],[10,11,12]])\n",
    "print(sample_array3)\n",
    "print(sample_array4)"
   ]
  },
  {
   "cell_type": "code",
   "execution_count": 23,
   "metadata": {},
   "outputs": [
    {
     "name": "stdout",
     "output_type": "stream",
     "text": [
      "[[1 2 3]\n",
      " [4 5 6]]\n",
      "[[ 7  8  9]\n",
      " [10 11 12]]\n",
      "[[ 1  2  3]\n",
      " [ 4  5  6]\n",
      " [ 7  8  9]\n",
      " [10 11 12]]\n",
      "[[ 1  2  3]\n",
      " [ 4  5  6]\n",
      " [ 7  8  9]\n",
      " [10 11 12]]\n"
     ]
    }
   ],
   "source": [
    "#データの結合\n",
    "\n",
    "#行方向に結合。axisに0を指定\n",
    "print(np.concatenate([sample_array3,sample_array4],axis=0))\n",
    "#行方向の結合はvstackを使っても可能\n",
    "print(np.vstack((sample_array3,sample_array4)))"
   ]
  },
  {
   "cell_type": "code",
   "execution_count": 24,
   "metadata": {},
   "outputs": [
    {
     "name": "stdout",
     "output_type": "stream",
     "text": [
      "[[ 1  2  3  7  8  9]\n",
      " [ 4  5  6 10 11 12]]\n",
      "[[ 1  2  3  7  8  9]\n",
      " [ 4  5  6 10 11 12]]\n"
     ]
    }
   ],
   "source": [
    "#列方向に結合。axisに1を指定\n",
    "print(np.concatenate([sample_array3,sample_array4],axis=1))\n",
    "#列方向の結合はhstackを使っても可能\n",
    "print(np.hstack((sample_array3,sample_array4)))"
   ]
  },
  {
   "cell_type": "code",
   "execution_count": 26,
   "metadata": {},
   "outputs": [
    {
     "name": "stdout",
     "output_type": "stream",
     "text": [
      "[[ 1  2  3]\n",
      " [ 4  5  6]\n",
      " [ 7  8  9]\n",
      " [10 11 12]]\n",
      "first\n",
      "[[1 2 3]]\n",
      "second\n",
      "[[4 5 6]\n",
      " [7 8 9]]\n",
      "second[0]\n",
      "[4 5 6]\n",
      "third\n",
      "[[10 11 12]]\n"
     ]
    }
   ],
   "source": [
    "#配列の分割\n",
    "#結合\n",
    "sample_array_vstack = np.vstack((sample_array3,sample_array4))\n",
    "print(sample_array_vstack)\n",
    "#分割(3つに分割し、first,second,thirdという3つの変数に代入)\n",
    "first,second,third = np.split(sample_array_vstack,[1,3])\n",
    "\n",
    "print('first')\n",
    "print(first)\n",
    "print('second')\n",
    "print(second)\n",
    "print('second[0]')\n",
    "print(second[0])\n",
    "print('third')\n",
    "print(third)"
   ]
  },
  {
   "cell_type": "code",
   "execution_count": 27,
   "metadata": {},
   "outputs": [
    {
     "data": {
      "text/plain": [
       "array([1, 1, 1, 1, 1, 2, 2, 2, 2, 2, 3, 3, 3, 3, 3])"
      ]
     },
     "execution_count": 27,
     "metadata": {},
     "output_type": "execute_result"
    }
   ],
   "source": [
    "#繰り返し処理(repeatを使うと指定した回数だけ繰り返されて生成される)\n",
    "first.repeat(5)"
   ]
  },
  {
   "cell_type": "code",
   "execution_count": 29,
   "metadata": {},
   "outputs": [
    {
     "name": "stdout",
     "output_type": "stream",
     "text": [
      "[0 1 2 3 4 5 6 7 8 9]\n"
     ]
    },
    {
     "data": {
      "text/plain": [
       "array([ 3,  4,  5,  6,  7,  8,  9, 10, 11, 12])"
      ]
     },
     "execution_count": 29,
     "metadata": {},
     "output_type": "execute_result"
    }
   ],
   "source": [
    "#ブロードキャスト\n",
    "print(sample_array)\n",
    "sample_array + 3\n",
    "#上記は配列+配列でないので計算できないが、numpyは自動でnp.array[(3,3,3,…)]のように計算する。\n",
    "#これをブロードキャストという。"
   ]
  }
 ],
 "metadata": {
  "kernelspec": {
   "display_name": "Python 3",
   "language": "python",
   "name": "python3"
  },
  "language_info": {
   "codemirror_mode": {
    "name": "ipython",
    "version": 3
   },
   "file_extension": ".py",
   "mimetype": "text/x-python",
   "name": "python",
   "nbconvert_exporter": "python",
   "pygments_lexer": "ipython3",
   "version": "3.8.3"
  }
 },
 "nbformat": 4,
 "nbformat_minor": 4
}
