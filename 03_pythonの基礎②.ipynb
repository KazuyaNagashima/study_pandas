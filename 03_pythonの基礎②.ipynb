{
 "cells": [
  {
   "cell_type": "markdown",
   "metadata": {},
   "source": [
    "リストと辞書型"
   ]
  },
  {
   "cell_type": "code",
   "execution_count": 24,
   "metadata": {},
   "outputs": [
    {
     "name": "stdout",
     "output_type": "stream",
     "text": [
      "[1, 2, 3, 4, 5, 6, 7, 8, 9, 10]\n",
      "変数のタイプ: <class 'list'>\n",
      "2番目の数: 2\n",
      "要素数: 10\n"
     ]
    }
   ],
   "source": [
    "#リストの作成\n",
    "data_list =[1,2,3,4,5,6,7,8,9,10]\n",
    "print(data_list)\n",
    "\n",
    "#typeで変数のタイプが分かる\n",
    "print('変数のタイプ:', type(data_list))\n",
    "\n",
    "#一つの要素を取り出す。\n",
    "print('2番目の数:', data_list[1])\n",
    "\n",
    "#len関数で要素の数を出力\n",
    "print('要素数:', len(data_list))"
   ]
  },
  {
   "cell_type": "code",
   "execution_count": 25,
   "metadata": {},
   "outputs": [
    {
     "data": {
      "text/plain": [
       "[1, 2, 3, 4, 5, 6, 7, 8, 9, 10, 1, 2, 3, 4, 5, 6, 7, 8, 9, 10]"
      ]
     },
     "execution_count": 25,
     "metadata": {},
     "output_type": "execute_result"
    }
   ],
   "source": [
    "#listに2をかけてもlistがもう一度繰り返されるだけ。Numpyあるいはfor文を用いるべき\n",
    "data_list * 2"
   ]
  },
  {
   "cell_type": "code",
   "execution_count": 13,
   "metadata": {},
   "outputs": [
    {
     "name": "stdout",
     "output_type": "stream",
     "text": [
      "500\n"
     ]
    }
   ],
   "source": [
    "#辞書型\n",
    "dic_data = {'apple' : 100, 'banana' : 100, 'orange' :300, 'mango' :400, 'melon':500}\n",
    "print(dic_data['melon'])"
   ]
  },
  {
   "cell_type": "markdown",
   "metadata": {},
   "source": [
    "条件分岐とループ"
   ]
  },
  {
   "cell_type": "markdown",
   "metadata": {},
   "source": [
    "・条件分岐"
   ]
  },
  {
   "cell_type": "code",
   "execution_count": 14,
   "metadata": {},
   "outputs": [
    {
     "name": "stdout",
     "output_type": "stream",
     "text": [
      "True\n",
      "False\n",
      "True\n",
      "True\n",
      "False\n"
     ]
    }
   ],
   "source": [
    "#比較演算子と真偽判定\n",
    "\n",
    "#==は完全一致\n",
    "print(1 == 1)\n",
    "print(1 == 2)\n",
    "\n",
    "#!=は≠の意味\n",
    "print(1 != 2)\n",
    "\n",
    "#不等号も可\n",
    "print(1 < 2)\n",
    "print(1 > 2)"
   ]
  },
  {
   "cell_type": "code",
   "execution_count": 15,
   "metadata": {},
   "outputs": [
    {
     "name": "stdout",
     "output_type": "stream",
     "text": [
      "False\n",
      "True\n",
      "True\n"
     ]
    }
   ],
   "source": [
    "#andは積事象\n",
    "print((1 == 1) and (1 == 2))\n",
    "\n",
    "#orは和事象\n",
    "print((1 == 1) or (1 == 2))\n",
    "\n",
    "#notは真偽を逆にする\n",
    "print(not (1 == 2))"
   ]
  },
  {
   "cell_type": "code",
   "execution_count": 16,
   "metadata": {},
   "outputs": [
    {
     "name": "stdout",
     "output_type": "stream",
     "text": [
      "5は入っています。\n"
     ]
    }
   ],
   "source": [
    "#if文\n",
    "findvalue = 5\n",
    "\n",
    "if findvalue in data_list:\n",
    "    print('{0}は入っています。'.format(findvalue))\n",
    "else:\n",
    "    print('{0}は入っていません。'.format(findvalue))\n",
    "\n",
    "#format:波かっこ{}で囲まれた「置換フィールド」を埋め込み、format( )メソッドの引数で{}の部分を置換。"
   ]
  },
  {
   "cell_type": "markdown",
   "metadata": {},
   "source": [
    "・ループ"
   ]
  },
  {
   "cell_type": "code",
   "execution_count": 17,
   "metadata": {},
   "outputs": [
    {
     "name": "stdout",
     "output_type": "stream",
     "text": [
      "num: 1\n",
      "num: 2\n",
      "num: 3\n",
      "total: 6\n"
     ]
    }
   ],
   "source": [
    "#for文\n",
    "\n",
    "#初期値の設定\n",
    "total=0\n",
    "\n",
    "for num in [1,2,3]:\n",
    "    print('num:',num)\n",
    "    total =total + num\n",
    "\n",
    "print('total:', total)"
   ]
  },
  {
   "cell_type": "code",
   "execution_count": 18,
   "metadata": {},
   "outputs": [
    {
     "name": "stdout",
     "output_type": "stream",
     "text": [
      "0\n",
      "1\n",
      "2\n",
      "3\n",
      "4\n",
      "5\n",
      "6\n",
      "7\n",
      "8\n",
      "9\n",
      "10\n"
     ]
    }
   ],
   "source": [
    "#range関数\n",
    "#range(N)はNの手前まで\n",
    "for i in range(11):\n",
    "    print(i)"
   ]
  },
  {
   "cell_type": "code",
   "execution_count": 19,
   "metadata": {},
   "outputs": [
    {
     "name": "stdout",
     "output_type": "stream",
     "text": [
      "1\n",
      "3\n",
      "5\n",
      "7\n",
      "9\n"
     ]
    }
   ],
   "source": [
    "#range(from,to,個飛ばし)\n",
    "for i in range(1,11,2):\n",
    "    print(i)"
   ]
  },
  {
   "cell_type": "code",
   "execution_count": 20,
   "metadata": {},
   "outputs": [
    {
     "name": "stdout",
     "output_type": "stream",
     "text": [
      "apple 100\n",
      "banana 100\n",
      "orange 300\n",
      "mango 400\n",
      "melon 500\n"
     ]
    }
   ],
   "source": [
    "#辞書のkeyとvalueを取り出して表示する\n",
    "for key, value in dic_data.items():\n",
    "    print(key,value)"
   ]
  },
  {
   "cell_type": "code",
   "execution_count": 26,
   "metadata": {},
   "outputs": [
    {
     "name": "stdout",
     "output_type": "stream",
     "text": [
      "[2, 4, 6, 8, 10, 12, 14, 16, 18, 20]\n"
     ]
    }
   ],
   "source": [
    "#空のリストを作成\n",
    "data_list1 = []\n",
    "\n",
    "#内包表記(data_listから一つずつ抽出し、2倍した新たなlistの作成)\n",
    "data_list1 = [i * 2 for i in data_list]\n",
    "print(data_list1)"
   ]
  },
  {
   "cell_type": "code",
   "execution_count": 27,
   "metadata": {},
   "outputs": [
    {
     "data": {
      "text/plain": [
       "[4, 8, 12, 16, 20]"
      ]
     },
     "execution_count": 27,
     "metadata": {},
     "output_type": "execute_result"
    }
   ],
   "source": [
    "#条件指定も可能(i%2は2で割った時の余り。これが０となるのは偶数。)\n",
    "[i * 2 for i in data_list if i % 2 ==0]"
   ]
  },
  {
   "cell_type": "code",
   "execution_count": 28,
   "metadata": {},
   "outputs": [
    {
     "name": "stdout",
     "output_type": "stream",
     "text": [
      "1 と 11\n",
      "2 と 12\n",
      "3 と 13\n"
     ]
    }
   ],
   "source": [
    "#zip関数(異なるリストを同時に抽出)\n",
    "for one, two in zip([1,2,3],[11,12,13]):\n",
    "    print(one, 'と', two)"
   ]
  },
  {
   "cell_type": "code",
   "execution_count": 29,
   "metadata": {},
   "outputs": [
    {
     "name": "stdout",
     "output_type": "stream",
     "text": [
      "1\n",
      "2\n",
      "3\n",
      "4\n",
      "5\n",
      "6\n",
      "7\n",
      "8\n",
      "9\n",
      "10\n",
      "最後の値は11です。\n"
     ]
    }
   ],
   "source": [
    "#while文(条件が成り立つ限りずっと繰り返し)\n",
    "\n",
    "#初期値の設定\n",
    "num = 1\n",
    "\n",
    "while num <= 10:\n",
    "    print(num)\n",
    "    num = num + 1\n",
    "\n",
    "print('最後の値は{0}です。'.format(num))"
   ]
  }
 ],
 "metadata": {
  "kernelspec": {
   "display_name": "Python 3",
   "language": "python",
   "name": "python3"
  },
  "language_info": {
   "codemirror_mode": {
    "name": "ipython",
    "version": 3
   },
   "file_extension": ".py",
   "mimetype": "text/x-python",
   "name": "python",
   "nbconvert_exporter": "python",
   "pygments_lexer": "ipython3",
   "version": "3.8.3"
  }
 },
 "nbformat": 4,
 "nbformat_minor": 4
}
