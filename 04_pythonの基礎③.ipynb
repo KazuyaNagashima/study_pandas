{
 "cells": [
  {
   "cell_type": "markdown",
   "metadata": {},
   "source": [
    "関数の基本"
   ]
  },
  {
   "cell_type": "code",
   "execution_count": 1,
   "metadata": {},
   "outputs": [
    {
     "data": {
      "text/plain": [
       "30"
      ]
     },
     "execution_count": 1,
     "metadata": {},
     "output_type": "execute_result"
    }
   ],
   "source": [
    "#関数は一連の処理をひとまとめにする仕組みである。\n",
    "\n",
    "#defで関数名を定義し、returnで返り値を定義する。\n",
    "#ex)掛け算をする関数\n",
    "\n",
    "def calc_multi(a,b):\n",
    "    return a * b\n",
    "\n",
    "calc_multi(3,10)"
   ]
  },
  {
   "cell_type": "code",
   "execution_count": 2,
   "metadata": {},
   "outputs": [
    {
     "name": "stdout",
     "output_type": "stream",
     "text": [
      "printのサンプル関数\n"
     ]
    }
   ],
   "source": [
    "def calc_print():\n",
    "    print('printのサンプル関数')\n",
    "    \n",
    "calc_print()"
   ]
  },
  {
   "cell_type": "code",
   "execution_count": 5,
   "metadata": {},
   "outputs": [
    {
     "name": "stdout",
     "output_type": "stream",
     "text": [
      "フィボナッチ数: 55\n"
     ]
    }
   ],
   "source": [
    "#再帰関数の例(フィボナッチ数)\n",
    "def calc_fib(n):\n",
    "    if n == 1 or n == 2:\n",
    "        return 1\n",
    "    else:\n",
    "        return calc_fib(n - 1) + calc_fib(n - 2)\n",
    "\n",
    "print('フィボナッチ数:' ,calc_fib(10))"
   ]
  },
  {
   "cell_type": "markdown",
   "metadata": {},
   "source": [
    "無名関数とmap"
   ]
  },
  {
   "cell_type": "code",
   "execution_count": 6,
   "metadata": {},
   "outputs": [
    {
     "data": {
      "text/plain": [
       "30"
      ]
     },
     "execution_count": 6,
     "metadata": {},
     "output_type": "execute_result"
    }
   ],
   "source": [
    "#無名関数:名前のない関数。lambdaというキーワードを使用する。listでよく使用。\n",
    "(lambda a, b: a * b)(3,10)"
   ]
  },
  {
   "cell_type": "code",
   "execution_count": 9,
   "metadata": {},
   "outputs": [
    {
     "name": "stdout",
     "output_type": "stream",
     "text": [
      "2\n",
      "4\n",
      "6\n",
      "8\n"
     ]
    }
   ],
   "source": [
    "#for文を用いたリストの処理。\n",
    "def calc_double(x):\n",
    "    return x * 2\n",
    "\n",
    "for num in [1, 2, 3, 4]:\n",
    "    print(calc_double(num))"
   ]
  },
  {
   "cell_type": "code",
   "execution_count": 10,
   "metadata": {},
   "outputs": [
    {
     "data": {
      "text/plain": [
       "[2, 4, 6, 8]"
      ]
     },
     "execution_count": 10,
     "metadata": {},
     "output_type": "execute_result"
    }
   ],
   "source": [
    "#map関数:第一引数に関数、第二引数にシーケンスを指定\n",
    "\n",
    "#map関数を用いたリストの処理(定義有り)\n",
    "list(map(calc_double, [1, 2, 3, 4]))"
   ]
  },
  {
   "cell_type": "code",
   "execution_count": 11,
   "metadata": {},
   "outputs": [
    {
     "data": {
      "text/plain": [
       "[2, 4, 6, 8]"
      ]
     },
     "execution_count": 11,
     "metadata": {},
     "output_type": "execute_result"
    }
   ],
   "source": [
    "#map関数を用いたリストの処理(無名関数の使用)\n",
    "list(map(lambda x : x * 2 , [1, 2, 3, 4]))"
   ]
  },
  {
   "cell_type": "markdown",
   "metadata": {},
   "source": [
    "クラスとインスタンス"
   ]
  },
  {
   "cell_type": "code",
   "execution_count": 12,
   "metadata": {},
   "outputs": [],
   "source": [
    "#クラス:たい焼きの型(PrintClass)\n",
    "#インスタンス:小倉たい焼き(p1)やクリームたい焼き(p2)"
   ]
  },
  {
   "cell_type": "code",
   "execution_count": 14,
   "metadata": {},
   "outputs": [
    {
     "name": "stdout",
     "output_type": "stream",
     "text": [
      "10 100\n"
     ]
    }
   ],
   "source": [
    "#PrintClassクラスの作成とprint_meメソッド(関数)の作成\n",
    "class PrintClass:\n",
    "    def print_me(self):\n",
    "        print(self.x,self.y)\n",
    "\n",
    "#インスタンスの作成、生成\n",
    "p1 = PrintClass()\n",
    "\n",
    "#属性の値を代入\n",
    "p1.x = 10\n",
    "p1.y = 100\n",
    "p1.z = 1000\n",
    "\n",
    "#関数(メソッド)の呼び出し\n",
    "p1.print_me()"
   ]
  },
  {
   "cell_type": "markdown",
   "metadata": {},
   "source": [
    "↑ｐ1というインスタンスに、print_me（）という関数がついていてそれを実行している"
   ]
  },
  {
   "cell_type": "code",
   "execution_count": 15,
   "metadata": {},
   "outputs": [
    {
     "data": {
      "text/plain": [
       "1000"
      ]
     },
     "execution_count": 15,
     "metadata": {},
     "output_type": "execute_result"
    }
   ],
   "source": [
    "#先ほど表示した属性を表示\n",
    "p1.z"
   ]
  },
  {
   "cell_type": "code",
   "execution_count": 16,
   "metadata": {},
   "outputs": [],
   "source": [
    "#応用\n",
    "#classの設定\n",
    "\n",
    "class MyCalcClass:\n",
    "    \n",
    "    #コンストラクタ(__init__):オブジェクト生成時(インスタンスの生成時)に呼び出される特殊な関数。初期化など。\n",
    "    def __init__(self, x, y) :\n",
    "        self.x = x\n",
    "        self.y = y\n",
    "    \n",
    "    def calc_add1(self, a, b) :\n",
    "        return a + b\n",
    "    \n",
    "    def calc_add2(self):\n",
    "        return self.x + self.y\n",
    "    \n",
    "    def calc_multi(self, a, b) :\n",
    "        return a * b\n",
    "    \n",
    "    def calc_print(self, a):\n",
    "        print('data:{0}:yの値{1}'.format(a, self.y))"
   ]
  },
  {
   "cell_type": "code",
   "execution_count": 17,
   "metadata": {},
   "outputs": [],
   "source": [
    "#応用\n",
    "#インスタンスの生成\n",
    "instance_1 = MyCalcClass(1,2)\n",
    "instance_2 = MyCalcClass(5,10)"
   ]
  },
  {
   "cell_type": "code",
   "execution_count": 18,
   "metadata": {},
   "outputs": [
    {
     "name": "stdout",
     "output_type": "stream",
     "text": [
      "2つの数の足し算(新たに数字を引数としてセット): 8\n",
      "2つの数の足し算(インスタンス化の時の値): 3\n",
      "2つの数の掛け算: 15\n",
      "data:5:yの値2\n"
     ]
    }
   ],
   "source": [
    "#応用\n",
    "#出力（instance1）\n",
    "print('2つの数の足し算(新たに数字を引数としてセット):', instance_1.calc_add1(5,3))\n",
    "print('2つの数の足し算(インスタンス化の時の値):', instance_1.calc_add2())\n",
    "print('2つの数の掛け算:', instance_1.calc_multi(5,3))\n",
    "instance_1.calc_print(5)"
   ]
  },
  {
   "cell_type": "code",
   "execution_count": 19,
   "metadata": {},
   "outputs": [
    {
     "name": "stdout",
     "output_type": "stream",
     "text": [
      "2つの数の足し算(新たに数字を引数としてセット): 8\n",
      "2つの数の足し算(インスタンス化の時の値): 15\n",
      "2つの数の掛け算: 15\n",
      "data:5:yの値10\n"
     ]
    }
   ],
   "source": [
    "#応用\n",
    "#出力（instance2）\n",
    "print('2つの数の足し算(新たに数字を引数としてセット):', instance_2.calc_add1(5,3))\n",
    "print('2つの数の足し算(インスタンス化の時の値):', instance_2.calc_add2())\n",
    "print('2つの数の掛け算:', instance_2.calc_multi(5,3))\n",
    "instance_2.calc_print(5)"
   ]
  }
 ],
 "metadata": {
  "kernelspec": {
   "display_name": "Python 3",
   "language": "python",
   "name": "python3"
  },
  "language_info": {
   "codemirror_mode": {
    "name": "ipython",
    "version": 3
   },
   "file_extension": ".py",
   "mimetype": "text/x-python",
   "name": "python",
   "nbconvert_exporter": "python",
   "pygments_lexer": "ipython3",
   "version": "3.8.3"
  }
 },
 "nbformat": 4,
 "nbformat_minor": 4
}
