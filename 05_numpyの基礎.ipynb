{
 "cells": [
  {
   "cell_type": "code",
   "execution_count": 2,
   "metadata": {},
   "outputs": [
    {
     "data": {
      "text/plain": [
       "'%.3f'"
      ]
     },
     "execution_count": 2,
     "metadata": {},
     "output_type": "execute_result"
    }
   ],
   "source": [
    "#numpyライブラリーの読み込み\n",
    "import numpy  as np\n",
    "\n",
    "#小数第3位まで表示という意味\n",
    "%precision 3"
   ]
  },
  {
   "cell_type": "markdown",
   "metadata": {},
   "source": [
    "配列操作"
   ]
  },
  {
   "cell_type": "code",
   "execution_count": 3,
   "metadata": {},
   "outputs": [
    {
     "data": {
      "text/plain": [
       "array([ 9,  2,  3,  4, 10,  6,  7,  8,  1,  5])"
      ]
     },
     "execution_count": 3,
     "metadata": {},
     "output_type": "execute_result"
    }
   ],
   "source": [
    "#配列の作成\n",
    "data = np.array([9, 2, 3, 4, 10, 6, 7, 8, 1, 5])\n",
    "data"
   ]
  },
  {
   "cell_type": "code",
   "execution_count": 4,
   "metadata": {},
   "outputs": [
    {
     "data": {
      "text/plain": [
       "dtype('int32')"
      ]
     },
     "execution_count": 4,
     "metadata": {},
     "output_type": "execute_result"
    }
   ],
   "source": [
    "#データ型\n",
    "data.dtype"
   ]
  },
  {
   "cell_type": "raw",
   "metadata": {},
   "source": [
    "データ型の種類\n",
    "int:符号付きの整数(8bit~64bit)\n",
    "uint:符号なしの整数(8bit~64bit)\n",
    "float:浮動小数点数(8bit~128bit)\n",
    "bool:真偽値(True,or False)"
   ]
  },
  {
   "cell_type": "code",
   "execution_count": 5,
   "metadata": {},
   "outputs": [
    {
     "name": "stdout",
     "output_type": "stream",
     "text": [
      "次元数: 1\n",
      "要素数: 10\n"
     ]
    }
   ],
   "source": [
    "#次元数と要素数\n",
    "print('次元数:', data.ndim)\n",
    "print('要素数:', data.size)"
   ]
  },
  {
   "cell_type": "code",
   "execution_count": 6,
   "metadata": {},
   "outputs": [
    {
     "data": {
      "text/plain": [
       "array([18,  4,  6,  8, 20, 12, 14, 16,  2, 10])"
      ]
     },
     "execution_count": 6,
     "metadata": {},
     "output_type": "execute_result"
    }
   ],
   "source": [
    "#配列の計算(numpy)\n",
    "data * 2"
   ]
  },
  {
   "cell_type": "code",
   "execution_count": 7,
   "metadata": {},
   "outputs": [
    {
     "name": "stdout",
     "output_type": "stream",
     "text": [
      "掛け算: [10 18 24 28 30 30 28 24 18 10]\n",
      "累乗: [  1   4   9  16  25  36  49  64  81 100]\n",
      "割り算: [ 0.1    0.222  0.375  0.571  0.833  1.2    1.75   2.667  4.5   10.   ]\n"
     ]
    }
   ],
   "source": [
    "#要素同士での計算\n",
    "print('掛け算:',np.array([1,2,3,4,5,6,7,8,9,10]) * np.array([10,9,8,7,6,5,4,3,2,1]))\n",
    "print('累乗:',np.array([1,2,3,4,5,6,7,8,9,10]) ** 2)\n",
    "print('割り算:',np.array([1,2,3,4,5,6,7,8,9,10]) / np.array([10,9,8,7,6,5,4,3,2,1]))"
   ]
  },
  {
   "cell_type": "code",
   "execution_count": 8,
   "metadata": {},
   "outputs": [
    {
     "name": "stdout",
     "output_type": "stream",
     "text": [
      "そのまま: [ 9  2  3  4 10  6  7  8  1  5]\n",
      "ソート後: [ 1  2  3  4  5  6  7  8  9 10]\n"
     ]
    }
   ],
   "source": [
    "#並び替え(ソート)\n",
    "print('そのまま:',data)\n",
    "data.sort()\n",
    "print('ソート後:',data)"
   ]
  },
  {
   "cell_type": "code",
   "execution_count": 9,
   "metadata": {},
   "outputs": [
    {
     "name": "stdout",
     "output_type": "stream",
     "text": [
      "ソート後 [10  9  8  7  6  5  4  3  2  1]\n"
     ]
    }
   ],
   "source": [
    "#スライス; [n:m:s]は「n番目からm-1番目を、sずつ飛ばして取り出す」の意味\n",
    "#[::-1]は末尾から一つずつ取り出す\n",
    "data[::-1].sort()\n",
    "print('ソート後', data)"
   ]
  },
  {
   "cell_type": "code",
   "execution_count": 10,
   "metadata": {},
   "outputs": [
    {
     "name": "stdout",
     "output_type": "stream",
     "text": [
      "Min: 1\n",
      "Max: 10\n",
      "Sum: 55\n",
      "Cum: [10 19 27 34 40 45 49 52 54 55]\n",
      "Ratio: [0.182 0.345 0.491 0.618 0.727 0.818 0.891 0.945 0.982 1.   ]\n"
     ]
    }
   ],
   "source": [
    "#最小値\n",
    "print('Min:',data.min())\n",
    "#最大値\n",
    "print('Max:',data.max())\n",
    "#合計\n",
    "print('Sum:',data.sum())\n",
    "#積み上げ\n",
    "print('Cum:',data.cumsum())\n",
    "#積み上げ割合\n",
    "print('Ratio:',data.cumsum() / data.sum())"
   ]
  },
  {
   "cell_type": "markdown",
   "metadata": {},
   "source": [
    "乱数"
   ]
  },
  {
   "cell_type": "code",
   "execution_count": 13,
   "metadata": {},
   "outputs": [
    {
     "name": "stdout",
     "output_type": "stream",
     "text": [
      "乱数10この配列: [ 1.764  0.4    0.979  2.241  1.868 -0.977  0.95  -0.151 -0.103  0.411]\n"
     ]
    }
   ],
   "source": [
    "import numpy.random as random\n",
    "\n",
    "random.seed(0)\n",
    "\n",
    "#正規分布(平均０、分散１)の乱数を１０個発生\n",
    "rnd_data = random.randn(10)\n",
    "\n",
    "print('乱数10この配列:', rnd_data)"
   ]
  },
  {
   "cell_type": "raw",
   "metadata": {},
   "source": [
    "randomの他の機能\n",
    "randn:標準正規分布。平均０、標準偏差１の乱数\n",
    "normal:正規分布。任意の平均、標準偏差の乱数\n",
    "rand:一様分布。0.0以上、1.0未満\n",
    "random_sample:一様分布。0.0以上、1.0未満(randとは引数の指定方法が異なる)\n",
    "randint:一様分布。任意の範囲の整数\n",
    "binominal:二項分布の乱数\n",
    "beta:ベータ分布の乱数\n",
    "gamma:ガンマ分布の乱数\n",
    "chisquare:χ二乗分布の乱数"
   ]
  },
  {
   "cell_type": "code",
   "execution_count": 14,
   "metadata": {},
   "outputs": [
    {
     "name": "stdout",
     "output_type": "stream",
     "text": [
      "[ 7  8  8  1  2  6  5  1  5 10]\n",
      "[10  2  7  8  3  1  6  5  9  4]\n"
     ]
    }
   ],
   "source": [
    "#抽出対象データ\n",
    "data = np.array([9,2,3,4,10,6,7,8,1,5])\n",
    "\n",
    "#ランダム抽出\n",
    "\n",
    "#10個を抽出(重複あり、復元抽出)\n",
    "print(random.choice(data, 10))\n",
    "\n",
    "#10個を抽出(重複なし、非復元抽出)\n",
    "print(random.choice(data, 10, replace = False))"
   ]
  },
  {
   "cell_type": "markdown",
   "metadata": {},
   "source": [
    "↑seedによって乱数が異なる"
   ]
  },
  {
   "cell_type": "markdown",
   "metadata": {},
   "source": [
    "行列"
   ]
  },
  {
   "cell_type": "code",
   "execution_count": 15,
   "metadata": {},
   "outputs": [
    {
     "data": {
      "text/plain": [
       "array([0, 1, 2, 3, 4, 5, 6, 7, 8])"
      ]
     },
     "execution_count": 15,
     "metadata": {},
     "output_type": "execute_result"
    }
   ],
   "source": [
    "#0から8までの整数を発生\n",
    "np.arange(9)"
   ]
  },
  {
   "cell_type": "code",
   "execution_count": 16,
   "metadata": {},
   "outputs": [
    {
     "name": "stdout",
     "output_type": "stream",
     "text": [
      "[[0 1 2]\n",
      " [3 4 5]\n",
      " [6 7 8]]\n"
     ]
    }
   ],
   "source": [
    "#reshapeで3×3の行列に分割\n",
    "array1 = np.arange(9).reshape(3,3)\n",
    "print(array1)"
   ]
  },
  {
   "cell_type": "code",
   "execution_count": 18,
   "metadata": {},
   "outputs": [
    {
     "name": "stdout",
     "output_type": "stream",
     "text": [
      "[0 1 2]\n",
      "[0 3 6]\n"
     ]
    }
   ],
   "source": [
    "#[行範囲,列範囲]\n",
    "#1行目\n",
    "print(array1[0,:])\n",
    "#1列目\n",
    "print(array1[:,0])"
   ]
  },
  {
   "cell_type": "code",
   "execution_count": 19,
   "metadata": {},
   "outputs": [
    {
     "name": "stdout",
     "output_type": "stream",
     "text": [
      "[[ 9 10 11]\n",
      " [12 13 14]\n",
      " [15 16 17]]\n"
     ]
    }
   ],
   "source": [
    "#行列の計算\n",
    "array2 = np.arange(9,18).reshape(3,3)\n",
    "print(array2)"
   ]
  },
  {
   "cell_type": "code",
   "execution_count": 20,
   "metadata": {},
   "outputs": [
    {
     "data": {
      "text/plain": [
       "array([[ 42,  45,  48],\n",
       "       [150, 162, 174],\n",
       "       [258, 279, 300]])"
      ]
     },
     "execution_count": 20,
     "metadata": {},
     "output_type": "execute_result"
    }
   ],
   "source": [
    "#行列の積\n",
    "np.dot(array1,array2)"
   ]
  },
  {
   "cell_type": "code",
   "execution_count": 21,
   "metadata": {},
   "outputs": [
    {
     "data": {
      "text/plain": [
       "array([[  0,  10,  22],\n",
       "       [ 36,  52,  70],\n",
       "       [ 90, 112, 136]])"
      ]
     },
     "execution_count": 21,
     "metadata": {},
     "output_type": "execute_result"
    }
   ],
   "source": [
    "#要素同士の積\n",
    "array1 * array2"
   ]
  },
  {
   "cell_type": "code",
   "execution_count": 22,
   "metadata": {},
   "outputs": [
    {
     "name": "stdout",
     "output_type": "stream",
     "text": [
      "[[0 0 0]\n",
      " [0 0 0]]\n",
      "[[1. 1. 1.]\n",
      " [1. 1. 1.]]\n"
     ]
    }
   ],
   "source": [
    "#要素が０や１の行列を作る\n",
    "print(np.zeros((2,3), dtype = np.int64))\n",
    "print(np.ones((2,3), dtype = np.float64))"
   ]
  }
 ],
 "metadata": {
  "kernelspec": {
   "display_name": "Python 3",
   "language": "python",
   "name": "python3"
  },
  "language_info": {
   "codemirror_mode": {
    "name": "ipython",
    "version": 3
   },
   "file_extension": ".py",
   "mimetype": "text/x-python",
   "name": "python",
   "nbconvert_exporter": "python",
   "pygments_lexer": "ipython3",
   "version": "3.8.3"
  }
 },
 "nbformat": 4,
 "nbformat_minor": 4
}
